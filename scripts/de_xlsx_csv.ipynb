{
 "cells": [
  {
   "cell_type": "code",
   "execution_count": 12,
   "metadata": {},
   "outputs": [],
   "source": [
    "import pandas as pd\n",
    "import numpy as np\n"
   ]
  },
  {
   "cell_type": "code",
   "execution_count": 13,
   "metadata": {},
   "outputs": [],
   "source": [
    "#leer el archivo tablas.xlsx que en cada hoja tiene una tabla\n",
    "xls = pd.ExcelFile('tablas.xlsx')\n"
   ]
  },
  {
   "cell_type": "code",
   "execution_count": 14,
   "metadata": {},
   "outputs": [
    {
     "name": "stdout",
     "output_type": "stream",
     "text": [
      "Pasajero.csv\n",
      "Equipaje.csv\n",
      "Pasaje.csv\n",
      "Vuelo.csv\n",
      "Configuracion de vuelo.csv\n",
      "Aerolinea.csv\n",
      "Aeropuerto.csv\n",
      "Terminal.csv\n",
      "Mostrador.csv\n",
      "PuertaEmbarque.csv\n",
      "Negocio.csv\n",
      "Empleado.csv\n",
      "Pasaje_reserva_Vuelo.csv\n",
      "Puerta_de_Embarque_asignada_Vue.csv\n",
      "Negocio_tiene_Empleado.csv\n",
      "Aerolinea_tiene_Empleado.csv\n",
      "Mostrador_pertenece_a_Aerolinea.csv\n",
      "Configuracion_de_vuelo_es_de_Ae.csv\n"
     ]
    }
   ],
   "source": [
    "#descargar csv de cada hoja con el nombre de la hoja\n",
    "for hoja in xls.sheet_names:\n",
    "    df = pd.read_excel('tablas.xlsx', sheet_name=hoja)\n",
    "    df.to_csv(\"../archivos_csv/\" + hoja + '.csv', index=False)\n",
    "    print(hoja + '.csv')\n",
    "\n",
    "    "
   ]
  },
  {
   "cell_type": "code",
   "execution_count": null,
   "metadata": {},
   "outputs": [],
   "source": []
  }
 ],
 "metadata": {
  "kernelspec": {
   "display_name": "general",
   "language": "python",
   "name": "python3"
  },
  "language_info": {
   "codemirror_mode": {
    "name": "ipython",
    "version": 3
   },
   "file_extension": ".py",
   "mimetype": "text/x-python",
   "name": "python",
   "nbconvert_exporter": "python",
   "pygments_lexer": "ipython3",
   "version": "3.11.3"
  }
 },
 "nbformat": 4,
 "nbformat_minor": 2
}
